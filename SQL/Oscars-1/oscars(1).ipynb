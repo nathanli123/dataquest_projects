{
 "cells": [
  {
   "cell_type": "code",
   "execution_count": 120,
   "metadata": {
    "collapsed": true
   },
   "outputs": [],
   "source": [
    "import pandas as pd\n",
    "data = pd.read_csv(\"academy_awards.csv\", encoding = \"ISO-8859-1\")"
   ]
  },
  {
   "cell_type": "code",
   "execution_count": 121,
   "metadata": {
    "collapsed": false
   },
   "outputs": [
    {
     "name": "stdout",
     "output_type": "stream",
     "text": [
      "          Year               Category          Nominee  \\\n",
      "0  2010 (83rd)  Actor -- Leading Role    Javier Bardem   \n",
      "1  2010 (83rd)  Actor -- Leading Role     Jeff Bridges   \n",
      "2  2010 (83rd)  Actor -- Leading Role  Jesse Eisenberg   \n",
      "3  2010 (83rd)  Actor -- Leading Role      Colin Firth   \n",
      "4  2010 (83rd)  Actor -- Leading Role     James Franco   \n",
      "\n",
      "                          Additional Info Won? Unnamed: 5 Unnamed: 6  \\\n",
      "0                      Biutiful {'Uxbal'}   NO        NaN        NaN   \n",
      "1           True Grit {'Rooster Cogburn'}   NO        NaN        NaN   \n",
      "2  The Social Network {'Mark Zuckerberg'}   NO        NaN        NaN   \n",
      "3    The King's Speech {'King George VI'}  YES        NaN        NaN   \n",
      "4              127 Hours {'Aron Ralston'}   NO        NaN        NaN   \n",
      "\n",
      "  Unnamed: 7 Unnamed: 8 Unnamed: 9 Unnamed: 10  \n",
      "0        NaN        NaN        NaN         NaN  \n",
      "1        NaN        NaN        NaN         NaN  \n",
      "2        NaN        NaN        NaN         NaN  \n",
      "3        NaN        NaN        NaN         NaN  \n",
      "4        NaN        NaN        NaN         NaN  \n"
     ]
    }
   ],
   "source": [
    "print(data.head())"
   ]
  },
  {
   "cell_type": "code",
   "execution_count": 122,
   "metadata": {
    "collapsed": false
   },
   "outputs": [
    {
     "name": "stdout",
     "output_type": "stream",
     "text": [
      "*    1\n",
      "Name: Unnamed: 10, dtype: int64\n"
     ]
    }
   ],
   "source": [
    "print(data[\"Unnamed: 10\"].value_counts())"
   ]
  },
  {
   "cell_type": "code",
   "execution_count": 123,
   "metadata": {
    "collapsed": false
   },
   "outputs": [
    {
     "name": "stdout",
     "output_type": "stream",
     "text": [
      "Metro-Goldwyn-Mayer                                                                                                                                                                  60\n",
      "Walt Disney, Producer                                                                                                                                                                57\n",
      "Warner Bros.                                                                                                                                                                         42\n",
      "John Williams                                                                                                                                                                        37\n",
      "France                                                                                                                                                                               35\n",
      "Alfred Newman                                                                                                                                                                        34\n",
      "Italy                                                                                                                                                                                26\n",
      "Paramount                                                                                                                                                                            24\n",
      "Gordon Hollingshead, Producer                                                                                                                                                        22\n",
      "Edith Head                                                                                                                                                                           22\n",
      "RKO Radio                                                                                                                                                                            20\n",
      "20th Century-Fox                                                                                                                                                                     20\n",
      "Spain                                                                                                                                                                                19\n",
      "Victor Young                                                                                                                                                                         19\n",
      "Leon Shamroy                                                                                                                                                                         17\n",
      "Jerry Goldsmith                                                                                                                                                                      16\n",
      "Max Steiner                                                                                                                                                                          16\n",
      "Woody Allen                                                                                                                                                                          16\n",
      "Metro-Goldwyn-Mayer Studio Sound Department, Douglas Shearer, Sound Director                                                                                                         15\n",
      "Miklos Rozsa                                                                                                                                                                         14\n",
      "Alex North                                                                                                                                                                           14\n",
      "Sweden                                                                                                                                                                               14\n",
      "Pete Smith, Producer                                                                                                                                                                 13\n",
      "Columbia Studio Sound Department, John Livadary, Sound Director                                                                                                                      13\n",
      "Columbia                                                                                                                                                                             13\n",
      "Dimitri Tiomkin                                                                                                                                                                      13\n",
      "Franz Waxman                                                                                                                                                                         12\n",
      "Robert Surtees                                                                                                                                                                       12\n",
      "Music and Lyric by Randy Newman                                                                                                                                                      12\n",
      "William Wyler                                                                                                                                                                        12\n",
      "                                                                                                                                                                                     ..\n",
      "Billy Williams, Ronnie Taylor                                                                                                                                                         1\n",
      "Arthur Cohn and Rene Lafuite, Producers                                                                                                                                               1\n",
      "Eiko Ishioka                                                                                                                                                                          1\n",
      "Music and Lyric by Carly Simon                                                                                                                                                        1\n",
      "Art Direction: Norman Reynolds, Fred Hole, James Schoppe; Set Decoration: Michael Ford                                                                                                1\n",
      "Marjorie Anne Short, Producer                                                                                                                                                         1\n",
      "Pip Karmel                                                                                                                                                                            1\n",
      "Music by Björk; Lyric by Lars von Trier and Sjon Sigurdsson                                                                                                                           1\n",
      "Roger MacDougall, John Dighton, Alexander Mackendrick                                                                                                                                 1\n",
      "Anne Dudley                                                                                                                                                                           1\n",
      "Leslie Bricusse                                                                                                                                                                       1\n",
      "Music and Lyric by Michael Sembello and Dennis Matkosky                                                                                                                               1\n",
      "Luigi Scaccianoce                                                                                                                                                                     1\n",
      "Sideways {'Maya'}                                                                                                                                                                     1\n",
      "Ben-Hur {'Judah Ben-Hur'}                                                                                                                                                             1\n",
      "Lawrence M. Lansburgh and Brian Lansburgh, Producers                                                                                                                                  1\n",
      "Edward Lachman                                                                                                                                                                        1\n",
      "Gary McKendry                                                                                                                                                                         1\n",
      "Edward H. Plumb, Paul J. Smith, Oliver G. Wallace                                                                                                                                     1\n",
      "A Passage to India {'Adela Quested'}                                                                                                                                                  1\n",
      "Gene Wilder, Mel Brooks                                                                                                                                                               1\n",
      "Quincy Jones, Jeremy Lubbock, Rod Temperton, Caiphus Semenya, Andrae Crouch, Chris Boardman, Jorge Calandrelli, Joel Rosenbaum, Fred Steiner, Jack Hayes, Jerry Hey, Randy Kerber     1\n",
      "Walter Newman, Frank R. Pierson                                                                                                                                                       1\n",
      "Gil Kenan                                                                                                                                                                             1\n",
      "Benjamin Glazer, John S. Toldy                                                                                                                                                        1\n",
      "Mark Mori and Susan Robinson, Producers                                                                                                                                               1\n",
      "Stanley Shapiro, Nate Monaster                                                                                                                                                        1\n",
      "Fat City {'Oma'}                                                                                                                                                                      1\n",
      "John Astin, Producer                                                                                                                                                                  1\n",
      "David Watkin                                                                                                                                                                          1\n",
      "Name: Additional Info, dtype: int64\n"
     ]
    }
   ],
   "source": [
    "print(data[\"Additional Info\"].value_counts())"
   ]
  },
  {
   "cell_type": "code",
   "execution_count": 124,
   "metadata": {
    "collapsed": false
   },
   "outputs": [
    {
     "data": {
      "text/html": [
       "<div>\n",
       "<table border=\"1\" class=\"dataframe\">\n",
       "  <thead>\n",
       "    <tr style=\"text-align: right;\">\n",
       "      <th></th>\n",
       "      <th>Year</th>\n",
       "      <th>Category</th>\n",
       "      <th>Nominee</th>\n",
       "      <th>Additional Info</th>\n",
       "      <th>Won?</th>\n",
       "      <th>Unnamed: 5</th>\n",
       "      <th>Unnamed: 6</th>\n",
       "      <th>Unnamed: 7</th>\n",
       "      <th>Unnamed: 8</th>\n",
       "      <th>Unnamed: 9</th>\n",
       "      <th>Unnamed: 10</th>\n",
       "    </tr>\n",
       "  </thead>\n",
       "  <tbody>\n",
       "    <tr>\n",
       "      <th>0</th>\n",
       "      <td>2010</td>\n",
       "      <td>Actor -- Leading Role</td>\n",
       "      <td>Javier Bardem</td>\n",
       "      <td>Biutiful {'Uxbal'}</td>\n",
       "      <td>NO</td>\n",
       "      <td>NaN</td>\n",
       "      <td>NaN</td>\n",
       "      <td>NaN</td>\n",
       "      <td>NaN</td>\n",
       "      <td>NaN</td>\n",
       "      <td>NaN</td>\n",
       "    </tr>\n",
       "    <tr>\n",
       "      <th>1</th>\n",
       "      <td>2010</td>\n",
       "      <td>Actor -- Leading Role</td>\n",
       "      <td>Jeff Bridges</td>\n",
       "      <td>True Grit {'Rooster Cogburn'}</td>\n",
       "      <td>NO</td>\n",
       "      <td>NaN</td>\n",
       "      <td>NaN</td>\n",
       "      <td>NaN</td>\n",
       "      <td>NaN</td>\n",
       "      <td>NaN</td>\n",
       "      <td>NaN</td>\n",
       "    </tr>\n",
       "    <tr>\n",
       "      <th>2</th>\n",
       "      <td>2010</td>\n",
       "      <td>Actor -- Leading Role</td>\n",
       "      <td>Jesse Eisenberg</td>\n",
       "      <td>The Social Network {'Mark Zuckerberg'}</td>\n",
       "      <td>NO</td>\n",
       "      <td>NaN</td>\n",
       "      <td>NaN</td>\n",
       "      <td>NaN</td>\n",
       "      <td>NaN</td>\n",
       "      <td>NaN</td>\n",
       "      <td>NaN</td>\n",
       "    </tr>\n",
       "    <tr>\n",
       "      <th>3</th>\n",
       "      <td>2010</td>\n",
       "      <td>Actor -- Leading Role</td>\n",
       "      <td>Colin Firth</td>\n",
       "      <td>The King's Speech {'King George VI'}</td>\n",
       "      <td>YES</td>\n",
       "      <td>NaN</td>\n",
       "      <td>NaN</td>\n",
       "      <td>NaN</td>\n",
       "      <td>NaN</td>\n",
       "      <td>NaN</td>\n",
       "      <td>NaN</td>\n",
       "    </tr>\n",
       "    <tr>\n",
       "      <th>4</th>\n",
       "      <td>2010</td>\n",
       "      <td>Actor -- Leading Role</td>\n",
       "      <td>James Franco</td>\n",
       "      <td>127 Hours {'Aron Ralston'}</td>\n",
       "      <td>NO</td>\n",
       "      <td>NaN</td>\n",
       "      <td>NaN</td>\n",
       "      <td>NaN</td>\n",
       "      <td>NaN</td>\n",
       "      <td>NaN</td>\n",
       "      <td>NaN</td>\n",
       "    </tr>\n",
       "  </tbody>\n",
       "</table>\n",
       "</div>"
      ],
      "text/plain": [
       "   Year               Category          Nominee  \\\n",
       "0  2010  Actor -- Leading Role    Javier Bardem   \n",
       "1  2010  Actor -- Leading Role     Jeff Bridges   \n",
       "2  2010  Actor -- Leading Role  Jesse Eisenberg   \n",
       "3  2010  Actor -- Leading Role      Colin Firth   \n",
       "4  2010  Actor -- Leading Role     James Franco   \n",
       "\n",
       "                          Additional Info Won? Unnamed: 5 Unnamed: 6  \\\n",
       "0                      Biutiful {'Uxbal'}   NO        NaN        NaN   \n",
       "1           True Grit {'Rooster Cogburn'}   NO        NaN        NaN   \n",
       "2  The Social Network {'Mark Zuckerberg'}   NO        NaN        NaN   \n",
       "3    The King's Speech {'King George VI'}  YES        NaN        NaN   \n",
       "4              127 Hours {'Aron Ralston'}   NO        NaN        NaN   \n",
       "\n",
       "  Unnamed: 7 Unnamed: 8 Unnamed: 9 Unnamed: 10  \n",
       "0        NaN        NaN        NaN         NaN  \n",
       "1        NaN        NaN        NaN         NaN  \n",
       "2        NaN        NaN        NaN         NaN  \n",
       "3        NaN        NaN        NaN         NaN  \n",
       "4        NaN        NaN        NaN         NaN  "
      ]
     },
     "execution_count": 124,
     "metadata": {},
     "output_type": "execute_result"
    }
   ],
   "source": [
    "# Formatting the year to first 4 digits, then converting to int\n",
    "data[\"Year\"] = data[\"Year\"].str[0:4].astype('int64')\n",
    "data.head()"
   ]
  },
  {
   "cell_type": "code",
   "execution_count": 125,
   "metadata": {
    "collapsed": false
   },
   "outputs": [
    {
     "data": {
      "text/html": [
       "<div>\n",
       "<table border=\"1\" class=\"dataframe\">\n",
       "  <thead>\n",
       "    <tr style=\"text-align: right;\">\n",
       "      <th></th>\n",
       "      <th>Year</th>\n",
       "      <th>Category</th>\n",
       "      <th>Nominee</th>\n",
       "      <th>Additional Info</th>\n",
       "      <th>Won?</th>\n",
       "      <th>Unnamed: 5</th>\n",
       "      <th>Unnamed: 6</th>\n",
       "      <th>Unnamed: 7</th>\n",
       "      <th>Unnamed: 8</th>\n",
       "      <th>Unnamed: 9</th>\n",
       "      <th>Unnamed: 10</th>\n",
       "    </tr>\n",
       "  </thead>\n",
       "  <tbody>\n",
       "    <tr>\n",
       "      <th>0</th>\n",
       "      <td>2010</td>\n",
       "      <td>Actor -- Leading Role</td>\n",
       "      <td>Javier Bardem</td>\n",
       "      <td>Biutiful {'Uxbal'}</td>\n",
       "      <td>NO</td>\n",
       "      <td>NaN</td>\n",
       "      <td>NaN</td>\n",
       "      <td>NaN</td>\n",
       "      <td>NaN</td>\n",
       "      <td>NaN</td>\n",
       "      <td>NaN</td>\n",
       "    </tr>\n",
       "    <tr>\n",
       "      <th>1</th>\n",
       "      <td>2010</td>\n",
       "      <td>Actor -- Leading Role</td>\n",
       "      <td>Jeff Bridges</td>\n",
       "      <td>True Grit {'Rooster Cogburn'}</td>\n",
       "      <td>NO</td>\n",
       "      <td>NaN</td>\n",
       "      <td>NaN</td>\n",
       "      <td>NaN</td>\n",
       "      <td>NaN</td>\n",
       "      <td>NaN</td>\n",
       "      <td>NaN</td>\n",
       "    </tr>\n",
       "    <tr>\n",
       "      <th>2</th>\n",
       "      <td>2010</td>\n",
       "      <td>Actor -- Leading Role</td>\n",
       "      <td>Jesse Eisenberg</td>\n",
       "      <td>The Social Network {'Mark Zuckerberg'}</td>\n",
       "      <td>NO</td>\n",
       "      <td>NaN</td>\n",
       "      <td>NaN</td>\n",
       "      <td>NaN</td>\n",
       "      <td>NaN</td>\n",
       "      <td>NaN</td>\n",
       "      <td>NaN</td>\n",
       "    </tr>\n",
       "    <tr>\n",
       "      <th>3</th>\n",
       "      <td>2010</td>\n",
       "      <td>Actor -- Leading Role</td>\n",
       "      <td>Colin Firth</td>\n",
       "      <td>The King's Speech {'King George VI'}</td>\n",
       "      <td>YES</td>\n",
       "      <td>NaN</td>\n",
       "      <td>NaN</td>\n",
       "      <td>NaN</td>\n",
       "      <td>NaN</td>\n",
       "      <td>NaN</td>\n",
       "      <td>NaN</td>\n",
       "    </tr>\n",
       "    <tr>\n",
       "      <th>4</th>\n",
       "      <td>2010</td>\n",
       "      <td>Actor -- Leading Role</td>\n",
       "      <td>James Franco</td>\n",
       "      <td>127 Hours {'Aron Ralston'}</td>\n",
       "      <td>NO</td>\n",
       "      <td>NaN</td>\n",
       "      <td>NaN</td>\n",
       "      <td>NaN</td>\n",
       "      <td>NaN</td>\n",
       "      <td>NaN</td>\n",
       "      <td>NaN</td>\n",
       "    </tr>\n",
       "  </tbody>\n",
       "</table>\n",
       "</div>"
      ],
      "text/plain": [
       "   Year               Category          Nominee  \\\n",
       "0  2010  Actor -- Leading Role    Javier Bardem   \n",
       "1  2010  Actor -- Leading Role     Jeff Bridges   \n",
       "2  2010  Actor -- Leading Role  Jesse Eisenberg   \n",
       "3  2010  Actor -- Leading Role      Colin Firth   \n",
       "4  2010  Actor -- Leading Role     James Franco   \n",
       "\n",
       "                          Additional Info Won? Unnamed: 5 Unnamed: 6  \\\n",
       "0                      Biutiful {'Uxbal'}   NO        NaN        NaN   \n",
       "1           True Grit {'Rooster Cogburn'}   NO        NaN        NaN   \n",
       "2  The Social Network {'Mark Zuckerberg'}   NO        NaN        NaN   \n",
       "3    The King's Speech {'King George VI'}  YES        NaN        NaN   \n",
       "4              127 Hours {'Aron Ralston'}   NO        NaN        NaN   \n",
       "\n",
       "  Unnamed: 7 Unnamed: 8 Unnamed: 9 Unnamed: 10  \n",
       "0        NaN        NaN        NaN         NaN  \n",
       "1        NaN        NaN        NaN         NaN  \n",
       "2        NaN        NaN        NaN         NaN  \n",
       "3        NaN        NaN        NaN         NaN  \n",
       "4        NaN        NaN        NaN         NaN  "
      ]
     },
     "execution_count": 125,
     "metadata": {},
     "output_type": "execute_result"
    }
   ],
   "source": [
    "# Select only rows where year > 2000 and is of one of the four award categories listed\n",
    "\n",
    "later_than_2000 = data.loc[data[\"Year\"] > 2000]\n",
    "award_categories = [\"Actor -- Leading Role\", \"Actor -- Supporting Role\", \"Actress -- Leading Role\", \"Actress -- Supporting Role\"]\n",
    "nominations = later_than_2000.loc[later_than_2000[\"Category\"].isin(award_categories)]\n",
    "nominations.head()"
   ]
  },
  {
   "cell_type": "code",
   "execution_count": 126,
   "metadata": {
    "collapsed": false
   },
   "outputs": [
    {
     "name": "stderr",
     "output_type": "stream",
     "text": [
      "/dataquest/system/env/python3/lib/python3.4/site-packages/ipykernel/__main__.py:3: SettingWithCopyWarning: \n",
      "A value is trying to be set on a copy of a slice from a DataFrame.\n",
      "Try using .loc[row_indexer,col_indexer] = value instead\n",
      "\n",
      "See the caveats in the documentation: http://pandas.pydata.org/pandas-docs/stable/indexing.html#indexing-view-versus-copy\n",
      "  app.launch_new_instance()\n",
      "/dataquest/system/env/python3/lib/python3.4/site-packages/ipykernel/__main__.py:5: SettingWithCopyWarning: \n",
      "A value is trying to be set on a copy of a slice from a DataFrame.\n",
      "Try using .loc[row_indexer,col_indexer] = value instead\n",
      "\n",
      "See the caveats in the documentation: http://pandas.pydata.org/pandas-docs/stable/indexing.html#indexing-view-versus-copy\n",
      "/dataquest/system/env/python3/lib/python3.4/site-packages/ipykernel/__main__.py:6: SettingWithCopyWarning: \n",
      "A value is trying to be set on a copy of a slice from a DataFrame.\n",
      "Try using .loc[row_indexer,col_indexer] = value instead\n",
      "\n",
      "See the caveats in the documentation: http://pandas.pydata.org/pandas-docs/stable/indexing.html#indexing-view-versus-copy\n"
     ]
    },
    {
     "data": {
      "text/html": [
       "<div>\n",
       "<table border=\"1\" class=\"dataframe\">\n",
       "  <thead>\n",
       "    <tr style=\"text-align: right;\">\n",
       "      <th></th>\n",
       "      <th>Year</th>\n",
       "      <th>Category</th>\n",
       "      <th>Nominee</th>\n",
       "      <th>Additional Info</th>\n",
       "      <th>Won</th>\n",
       "    </tr>\n",
       "  </thead>\n",
       "  <tbody>\n",
       "    <tr>\n",
       "      <th>0</th>\n",
       "      <td>2010</td>\n",
       "      <td>Actor -- Leading Role</td>\n",
       "      <td>Javier Bardem</td>\n",
       "      <td>Biutiful {'Uxbal'}</td>\n",
       "      <td>0</td>\n",
       "    </tr>\n",
       "    <tr>\n",
       "      <th>1</th>\n",
       "      <td>2010</td>\n",
       "      <td>Actor -- Leading Role</td>\n",
       "      <td>Jeff Bridges</td>\n",
       "      <td>True Grit {'Rooster Cogburn'}</td>\n",
       "      <td>0</td>\n",
       "    </tr>\n",
       "    <tr>\n",
       "      <th>2</th>\n",
       "      <td>2010</td>\n",
       "      <td>Actor -- Leading Role</td>\n",
       "      <td>Jesse Eisenberg</td>\n",
       "      <td>The Social Network {'Mark Zuckerberg'}</td>\n",
       "      <td>0</td>\n",
       "    </tr>\n",
       "    <tr>\n",
       "      <th>3</th>\n",
       "      <td>2010</td>\n",
       "      <td>Actor -- Leading Role</td>\n",
       "      <td>Colin Firth</td>\n",
       "      <td>The King's Speech {'King George VI'}</td>\n",
       "      <td>1</td>\n",
       "    </tr>\n",
       "    <tr>\n",
       "      <th>4</th>\n",
       "      <td>2010</td>\n",
       "      <td>Actor -- Leading Role</td>\n",
       "      <td>James Franco</td>\n",
       "      <td>127 Hours {'Aron Ralston'}</td>\n",
       "      <td>0</td>\n",
       "    </tr>\n",
       "  </tbody>\n",
       "</table>\n",
       "</div>"
      ],
      "text/plain": [
       "   Year               Category          Nominee  \\\n",
       "0  2010  Actor -- Leading Role    Javier Bardem   \n",
       "1  2010  Actor -- Leading Role     Jeff Bridges   \n",
       "2  2010  Actor -- Leading Role  Jesse Eisenberg   \n",
       "3  2010  Actor -- Leading Role      Colin Firth   \n",
       "4  2010  Actor -- Leading Role     James Franco   \n",
       "\n",
       "                          Additional Info  Won  \n",
       "0                      Biutiful {'Uxbal'}    0  \n",
       "1           True Grit {'Rooster Cogburn'}    0  \n",
       "2  The Social Network {'Mark Zuckerberg'}    0  \n",
       "3    The King's Speech {'King George VI'}    1  \n",
       "4              127 Hours {'Aron Ralston'}    0  "
      ]
     },
     "execution_count": 126,
     "metadata": {},
     "output_type": "execute_result"
    }
   ],
   "source": [
    "# Changing Won? column to 1 and 0, renaming it to \"Won\" and dropping useless columns\n",
    "\n",
    "nominations[\"Won?\"] = nominations[\"Won?\"].astype(str)\n",
    "replacements = { \"NO\": 0, \"YES\": 1 }\n",
    "nominations[\"Won?\"] = nominations[\"Won?\"].map(replacements)\n",
    "nominations[\"Won\"] = nominations[\"Won?\"]\n",
    "drop_cols = [\"Won?\",\"Unnamed: 5\", \"Unnamed: 6\",\"Unnamed: 7\", \"Unnamed: 8\", \"Unnamed: 9\", \"Unnamed: 10\"]\n",
    "final_nominations = nominations.drop(drop_cols, axis=1)\n",
    "final_nominations.head()"
   ]
  },
  {
   "cell_type": "code",
   "execution_count": 127,
   "metadata": {
    "collapsed": false
   },
   "outputs": [
    {
     "data": {
      "text/html": [
       "<div>\n",
       "<table border=\"1\" class=\"dataframe\">\n",
       "  <thead>\n",
       "    <tr style=\"text-align: right;\">\n",
       "      <th></th>\n",
       "      <th>Year</th>\n",
       "      <th>Category</th>\n",
       "      <th>Nominee</th>\n",
       "      <th>Additional Info</th>\n",
       "      <th>Won</th>\n",
       "      <th>Movie</th>\n",
       "      <th>Character</th>\n",
       "    </tr>\n",
       "  </thead>\n",
       "  <tbody>\n",
       "    <tr>\n",
       "      <th>0</th>\n",
       "      <td>2010</td>\n",
       "      <td>Actor -- Leading Role</td>\n",
       "      <td>Javier Bardem</td>\n",
       "      <td>Biutiful {'Uxbal'}</td>\n",
       "      <td>0</td>\n",
       "      <td>Biutiful</td>\n",
       "      <td>Uxbal</td>\n",
       "    </tr>\n",
       "    <tr>\n",
       "      <th>1</th>\n",
       "      <td>2010</td>\n",
       "      <td>Actor -- Leading Role</td>\n",
       "      <td>Jeff Bridges</td>\n",
       "      <td>True Grit {'Rooster Cogburn'}</td>\n",
       "      <td>0</td>\n",
       "      <td>True Grit</td>\n",
       "      <td>Rooster Cogburn</td>\n",
       "    </tr>\n",
       "    <tr>\n",
       "      <th>2</th>\n",
       "      <td>2010</td>\n",
       "      <td>Actor -- Leading Role</td>\n",
       "      <td>Jesse Eisenberg</td>\n",
       "      <td>The Social Network {'Mark Zuckerberg'}</td>\n",
       "      <td>0</td>\n",
       "      <td>The Social Network</td>\n",
       "      <td>Mark Zuckerberg</td>\n",
       "    </tr>\n",
       "    <tr>\n",
       "      <th>3</th>\n",
       "      <td>2010</td>\n",
       "      <td>Actor -- Leading Role</td>\n",
       "      <td>Colin Firth</td>\n",
       "      <td>The King's Speech {'King George VI'}</td>\n",
       "      <td>1</td>\n",
       "      <td>The King's Speech</td>\n",
       "      <td>King George VI</td>\n",
       "    </tr>\n",
       "    <tr>\n",
       "      <th>4</th>\n",
       "      <td>2010</td>\n",
       "      <td>Actor -- Leading Role</td>\n",
       "      <td>James Franco</td>\n",
       "      <td>127 Hours {'Aron Ralston'}</td>\n",
       "      <td>0</td>\n",
       "      <td>127 Hours</td>\n",
       "      <td>Aron Ralston</td>\n",
       "    </tr>\n",
       "  </tbody>\n",
       "</table>\n",
       "</div>"
      ],
      "text/plain": [
       "   Year               Category          Nominee  \\\n",
       "0  2010  Actor -- Leading Role    Javier Bardem   \n",
       "1  2010  Actor -- Leading Role     Jeff Bridges   \n",
       "2  2010  Actor -- Leading Role  Jesse Eisenberg   \n",
       "3  2010  Actor -- Leading Role      Colin Firth   \n",
       "4  2010  Actor -- Leading Role     James Franco   \n",
       "\n",
       "                          Additional Info  Won               Movie  \\\n",
       "0                      Biutiful {'Uxbal'}    0            Biutiful   \n",
       "1           True Grit {'Rooster Cogburn'}    0           True Grit   \n",
       "2  The Social Network {'Mark Zuckerberg'}    0  The Social Network   \n",
       "3    The King's Speech {'King George VI'}    1   The King's Speech   \n",
       "4              127 Hours {'Aron Ralston'}    0           127 Hours   \n",
       "\n",
       "         Character  \n",
       "0            Uxbal  \n",
       "1  Rooster Cogburn  \n",
       "2  Mark Zuckerberg  \n",
       "3   King George VI  \n",
       "4     Aron Ralston  "
      ]
     },
     "execution_count": 127,
     "metadata": {},
     "output_type": "execute_result"
    }
   ],
   "source": [
    "# change the additional info column into two columns showing movie and char played\n",
    "additional_info_one = final_nominations[\"Additional Info\"].str.rstrip((\"'}\"))\n",
    "additional_info_two = additional_info_one.str.split(\" {'\")\n",
    "movie_names = additional_info_two.str[0]\n",
    "characters = additional_info_two.str[1]\n",
    "final_nominations[\"Movie\"] = movie_names\n",
    "final_nominations[\"Character\"] = characters\n",
    "final_nominations.head()"
   ]
  },
  {
   "cell_type": "code",
   "execution_count": 128,
   "metadata": {
    "collapsed": false
   },
   "outputs": [
    {
     "name": "stderr",
     "output_type": "stream",
     "text": [
      "/dataquest/system/env/python3/lib/python3.4/site-packages/pandas/core/generic.py:1201: UserWarning: The spaces in these column names will not be changed. In pandas versions < 0.14, spaces were converted to underscores.\n",
      "  chunksize=chunksize, dtype=dtype)\n"
     ]
    }
   ],
   "source": [
    "import sqlite3\n",
    "conn = sqlite3.connect(\"nominations.db\")\n",
    "final_nominations.to_sql(\"nominations\", conn, index = False)"
   ]
  },
  {
   "cell_type": "code",
   "execution_count": 133,
   "metadata": {
    "collapsed": false
   },
   "outputs": [
    {
     "ename": "OperationalError",
     "evalue": "near \")\": syntax error",
     "output_type": "error",
     "traceback": [
      "\u001b[1;31m\u001b[0m",
      "\u001b[1;31mOperationalError\u001b[0mTraceback (most recent call last)",
      "\u001b[1;32m<ipython-input-133-f57028b513c5>\u001b[0m in \u001b[0;36m<module>\u001b[1;34m()\u001b[0m\n\u001b[0;32m      1\u001b[0m \u001b[0mconn\u001b[0m \u001b[1;33m=\u001b[0m \u001b[0msqlite3\u001b[0m\u001b[1;33m.\u001b[0m\u001b[0mconnect\u001b[0m\u001b[1;33m(\u001b[0m\u001b[1;34m\"nominations.db\"\u001b[0m\u001b[1;33m)\u001b[0m\u001b[1;33m\u001b[0m\u001b[0m\n\u001b[1;32m----> 2\u001b[1;33m \u001b[0mconn\u001b[0m\u001b[1;33m.\u001b[0m\u001b[0mexecute\u001b[0m\u001b[1;33m(\u001b[0m\u001b[1;34m\"pragma table_info()\"\u001b[0m\u001b[1;33m)\u001b[0m\u001b[1;33m\u001b[0m\u001b[0m\n\u001b[0m",
      "\u001b[1;31mOperationalError\u001b[0m: near \")\": syntax error"
     ]
    }
   ],
   "source": [
    "conn = sqlite3.connect(\"nominations.db\")\n",
    "conn.execute(\"pragma table_info()\")"
   ]
  },
  {
   "cell_type": "code",
   "execution_count": null,
   "metadata": {
    "collapsed": true
   },
   "outputs": [],
   "source": []
  }
 ],
 "metadata": {
  "kernelspec": {
   "display_name": "Python 3",
   "language": "python",
   "name": "python3"
  },
  "language_info": {
   "codemirror_mode": {
    "name": "ipython",
    "version": 3
   },
   "file_extension": ".py",
   "mimetype": "text/x-python",
   "name": "python",
   "nbconvert_exporter": "python",
   "pygments_lexer": "ipython3",
   "version": "3.4.3"
  }
 },
 "nbformat": 4,
 "nbformat_minor": 0
}
