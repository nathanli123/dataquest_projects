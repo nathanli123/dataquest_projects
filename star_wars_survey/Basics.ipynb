{
 "cells": [
  {
   "cell_type": "code",
   "execution_count": 49,
   "metadata": {
    "collapsed": false
   },
   "outputs": [],
   "source": [
    "import pandas as pd\n",
    "star_wars = pd.read_csv(\"star_wars.csv\", encoding = \"ISO-8859-1\")"
   ]
  },
  {
   "cell_type": "code",
   "execution_count": 50,
   "metadata": {
    "collapsed": false
   },
   "outputs": [
    {
     "name": "stdout",
     "output_type": "stream",
     "text": [
      "   RespondentID Have you seen any of the 6 films in the Star Wars franchise?  \\\n",
      "0           NaN                                           Response             \n",
      "1  3.292880e+09                                                Yes             \n",
      "2  3.292880e+09                                                 No             \n",
      "3  3.292765e+09                                                Yes             \n",
      "4  3.292763e+09                                                Yes             \n",
      "5  3.292731e+09                                                Yes             \n",
      "6  3.292719e+09                                                Yes             \n",
      "7  3.292685e+09                                                Yes             \n",
      "8  3.292664e+09                                                Yes             \n",
      "9  3.292654e+09                                                Yes             \n",
      "\n",
      "  Do you consider yourself to be a fan of the Star Wars film franchise?  \\\n",
      "0                                           Response                      \n",
      "1                                                Yes                      \n",
      "2                                                NaN                      \n",
      "3                                                 No                      \n",
      "4                                                Yes                      \n",
      "5                                                Yes                      \n",
      "6                                                Yes                      \n",
      "7                                                Yes                      \n",
      "8                                                Yes                      \n",
      "9                                                Yes                      \n",
      "\n",
      "  Which of the following Star Wars films have you seen? Please select all that apply.  \\\n",
      "0           Star Wars: Episode I  The Phantom Menace                                    \n",
      "1           Star Wars: Episode I  The Phantom Menace                                    \n",
      "2                                                NaN                                    \n",
      "3           Star Wars: Episode I  The Phantom Menace                                    \n",
      "4           Star Wars: Episode I  The Phantom Menace                                    \n",
      "5           Star Wars: Episode I  The Phantom Menace                                    \n",
      "6           Star Wars: Episode I  The Phantom Menace                                    \n",
      "7           Star Wars: Episode I  The Phantom Menace                                    \n",
      "8           Star Wars: Episode I  The Phantom Menace                                    \n",
      "9           Star Wars: Episode I  The Phantom Menace                                    \n",
      "\n",
      "                                    Unnamed: 4  \\\n",
      "0  Star Wars: Episode II  Attack of the Clones   \n",
      "1  Star Wars: Episode II  Attack of the Clones   \n",
      "2                                          NaN   \n",
      "3  Star Wars: Episode II  Attack of the Clones   \n",
      "4  Star Wars: Episode II  Attack of the Clones   \n",
      "5  Star Wars: Episode II  Attack of the Clones   \n",
      "6  Star Wars: Episode II  Attack of the Clones   \n",
      "7  Star Wars: Episode II  Attack of the Clones   \n",
      "8  Star Wars: Episode II  Attack of the Clones   \n",
      "9  Star Wars: Episode II  Attack of the Clones   \n",
      "\n",
      "                                    Unnamed: 5  \\\n",
      "0  Star Wars: Episode III  Revenge of the Sith   \n",
      "1  Star Wars: Episode III  Revenge of the Sith   \n",
      "2                                          NaN   \n",
      "3  Star Wars: Episode III  Revenge of the Sith   \n",
      "4  Star Wars: Episode III  Revenge of the Sith   \n",
      "5  Star Wars: Episode III  Revenge of the Sith   \n",
      "6  Star Wars: Episode III  Revenge of the Sith   \n",
      "7  Star Wars: Episode III  Revenge of the Sith   \n",
      "8  Star Wars: Episode III  Revenge of the Sith   \n",
      "9  Star Wars: Episode III  Revenge of the Sith   \n",
      "\n",
      "                          Unnamed: 6  \\\n",
      "0  Star Wars: Episode IV  A New Hope   \n",
      "1  Star Wars: Episode IV  A New Hope   \n",
      "2                                NaN   \n",
      "3                                NaN   \n",
      "4  Star Wars: Episode IV  A New Hope   \n",
      "5  Star Wars: Episode IV  A New Hope   \n",
      "6  Star Wars: Episode IV  A New Hope   \n",
      "7  Star Wars: Episode IV  A New Hope   \n",
      "8  Star Wars: Episode IV  A New Hope   \n",
      "9  Star Wars: Episode IV  A New Hope   \n",
      "\n",
      "                                     Unnamed: 7  \\\n",
      "0  Star Wars: Episode V The Empire Strikes Back   \n",
      "1  Star Wars: Episode V The Empire Strikes Back   \n",
      "2                                           NaN   \n",
      "3                                           NaN   \n",
      "4  Star Wars: Episode V The Empire Strikes Back   \n",
      "5  Star Wars: Episode V The Empire Strikes Back   \n",
      "6  Star Wars: Episode V The Empire Strikes Back   \n",
      "7  Star Wars: Episode V The Empire Strikes Back   \n",
      "8  Star Wars: Episode V The Empire Strikes Back   \n",
      "9  Star Wars: Episode V The Empire Strikes Back   \n",
      "\n",
      "                                 Unnamed: 8  \\\n",
      "0  Star Wars: Episode VI Return of the Jedi   \n",
      "1  Star Wars: Episode VI Return of the Jedi   \n",
      "2                                       NaN   \n",
      "3                                       NaN   \n",
      "4  Star Wars: Episode VI Return of the Jedi   \n",
      "5  Star Wars: Episode VI Return of the Jedi   \n",
      "6  Star Wars: Episode VI Return of the Jedi   \n",
      "7  Star Wars: Episode VI Return of the Jedi   \n",
      "8  Star Wars: Episode VI Return of the Jedi   \n",
      "9  Star Wars: Episode VI Return of the Jedi   \n",
      "\n",
      "  Please rank the Star Wars films in order of preference with 1 being your favorite film in the franchise and 6 being your least favorite film.  \\\n",
      "0           Star Wars: Episode I  The Phantom Menace                                                                                              \n",
      "1                                                  3                                                                                              \n",
      "2                                                NaN                                                                                              \n",
      "3                                                  1                                                                                              \n",
      "4                                                  5                                                                                              \n",
      "5                                                  5                                                                                              \n",
      "6                                                  1                                                                                              \n",
      "7                                                  6                                                                                              \n",
      "8                                                  4                                                                                              \n",
      "9                                                  5                                                                                              \n",
      "\n",
      "            ...                    Unnamed: 28  \\\n",
      "0           ...                           Yoda   \n",
      "1           ...                 Very favorably   \n",
      "2           ...                            NaN   \n",
      "3           ...               Unfamiliar (N/A)   \n",
      "4           ...                 Very favorably   \n",
      "5           ...             Somewhat favorably   \n",
      "6           ...                 Very favorably   \n",
      "7           ...                 Very favorably   \n",
      "8           ...                 Very favorably   \n",
      "9           ...             Somewhat favorably   \n",
      "\n",
      "        Which character shot first?  \\\n",
      "0                          Response   \n",
      "1  I don't understand this question   \n",
      "2                               NaN   \n",
      "3  I don't understand this question   \n",
      "4  I don't understand this question   \n",
      "5                            Greedo   \n",
      "6                               Han   \n",
      "7                               Han   \n",
      "8                               Han   \n",
      "9                               Han   \n",
      "\n",
      "  Are you familiar with the Expanded Universe?  \\\n",
      "0                                     Response   \n",
      "1                                          Yes   \n",
      "2                                          NaN   \n",
      "3                                           No   \n",
      "4                                           No   \n",
      "5                                          Yes   \n",
      "6                                          Yes   \n",
      "7                                          Yes   \n",
      "8                                           No   \n",
      "9                                           No   \n",
      "\n",
      "  Do you consider yourself to be a fan of the Expanded Universe?ÂÃ¦  \\\n",
      "0                                           Response                   \n",
      "1                                                 No                   \n",
      "2                                                NaN                   \n",
      "3                                                NaN                   \n",
      "4                                                NaN                   \n",
      "5                                                 No                   \n",
      "6                                                 No                   \n",
      "7                                                 No                   \n",
      "8                                                NaN                   \n",
      "9                                                NaN                   \n",
      "\n",
      "  Do you consider yourself to be a fan of the Star Trek franchise?    Gender  \\\n",
      "0                                           Response                Response   \n",
      "1                                                 No                    Male   \n",
      "2                                                Yes                    Male   \n",
      "3                                                 No                    Male   \n",
      "4                                                Yes                    Male   \n",
      "5                                                 No                    Male   \n",
      "6                                                Yes                    Male   \n",
      "7                                                 No                    Male   \n",
      "8                                                Yes                    Male   \n",
      "9                                                 No                    Male   \n",
      "\n",
      "        Age     Household Income                         Education  \\\n",
      "0  Response             Response                          Response   \n",
      "1     18-29                  NaN                High school degree   \n",
      "2     18-29         $0 - $24,999                   Bachelor degree   \n",
      "3     18-29         $0 - $24,999                High school degree   \n",
      "4     18-29  $100,000 - $149,999  Some college or Associate degree   \n",
      "5     18-29  $100,000 - $149,999  Some college or Associate degree   \n",
      "6     18-29    $25,000 - $49,999                   Bachelor degree   \n",
      "7     18-29                  NaN                High school degree   \n",
      "8     18-29                  NaN                High school degree   \n",
      "9     18-29         $0 - $24,999  Some college or Associate degree   \n",
      "\n",
      "  Location (Census Region)  \n",
      "0                 Response  \n",
      "1           South Atlantic  \n",
      "2       West South Central  \n",
      "3       West North Central  \n",
      "4       West North Central  \n",
      "5       West North Central  \n",
      "6          Middle Atlantic  \n",
      "7       East North Central  \n",
      "8           South Atlantic  \n",
      "9           South Atlantic  \n",
      "\n",
      "[10 rows x 38 columns]\n"
     ]
    }
   ],
   "source": [
    "print(star_wars.head(10))"
   ]
  },
  {
   "cell_type": "code",
   "execution_count": 51,
   "metadata": {
    "collapsed": false
   },
   "outputs": [
    {
     "name": "stdout",
     "output_type": "stream",
     "text": [
      "Index(['RespondentID',\n",
      "       'Have you seen any of the 6 films in the Star Wars franchise?',\n",
      "       'Do you consider yourself to be a fan of the Star Wars film franchise?',\n",
      "       'Which of the following Star Wars films have you seen? Please select all that apply.',\n",
      "       'Unnamed: 4', 'Unnamed: 5', 'Unnamed: 6', 'Unnamed: 7', 'Unnamed: 8',\n",
      "       'Please rank the Star Wars films in order of preference with 1 being your favorite film in the franchise and 6 being your least favorite film.',\n",
      "       'Unnamed: 10', 'Unnamed: 11', 'Unnamed: 12', 'Unnamed: 13',\n",
      "       'Unnamed: 14',\n",
      "       'Please state whether you view the following characters favorably, unfavorably, or are unfamiliar with him/her.',\n",
      "       'Unnamed: 16', 'Unnamed: 17', 'Unnamed: 18', 'Unnamed: 19',\n",
      "       'Unnamed: 20', 'Unnamed: 21', 'Unnamed: 22', 'Unnamed: 23',\n",
      "       'Unnamed: 24', 'Unnamed: 25', 'Unnamed: 26', 'Unnamed: 27',\n",
      "       'Unnamed: 28', 'Which character shot first?',\n",
      "       'Are you familiar with the Expanded Universe?',\n",
      "       'Do you consider yourself to be a fan of the Expanded Universe?ÂÃ¦',\n",
      "       'Do you consider yourself to be a fan of the Star Trek franchise?',\n",
      "       'Gender', 'Age', 'Household Income', 'Education',\n",
      "       'Location (Census Region)'],\n",
      "      dtype='object')\n",
      "(1187, 38)\n"
     ]
    }
   ],
   "source": [
    "print(star_wars.columns)\n",
    "print(star_wars.shape)"
   ]
  },
  {
   "cell_type": "code",
   "execution_count": 52,
   "metadata": {
    "collapsed": true
   },
   "outputs": [],
   "source": [
    "star_wars[\"RespondentID\"] = pd.notnull(\"RespondentID\")"
   ]
  },
  {
   "cell_type": "code",
   "execution_count": 53,
   "metadata": {
    "collapsed": false
   },
   "outputs": [
    {
     "name": "stdout",
     "output_type": "stream",
     "text": [
      "<class 'pandas.core.frame.DataFrame'>\n",
      "RangeIndex: 1187 entries, 0 to 1186\n",
      "Data columns (total 38 columns):\n",
      "RespondentID                                                                                                                                     1187 non-null bool\n",
      "Have you seen any of the 6 films in the Star Wars franchise?                                                                                     1187 non-null object\n",
      "Do you consider yourself to be a fan of the Star Wars film franchise?                                                                            837 non-null object\n",
      "Which of the following Star Wars films have you seen? Please select all that apply.                                                              674 non-null object\n",
      "Unnamed: 4                                                                                                                                       572 non-null object\n",
      "Unnamed: 5                                                                                                                                       551 non-null object\n",
      "Unnamed: 6                                                                                                                                       608 non-null object\n",
      "Unnamed: 7                                                                                                                                       759 non-null object\n",
      "Unnamed: 8                                                                                                                                       739 non-null object\n",
      "Please rank the Star Wars films in order of preference with 1 being your favorite film in the franchise and 6 being your least favorite film.    836 non-null object\n",
      "Unnamed: 10                                                                                                                                      837 non-null object\n",
      "Unnamed: 11                                                                                                                                      836 non-null object\n",
      "Unnamed: 12                                                                                                                                      837 non-null object\n",
      "Unnamed: 13                                                                                                                                      837 non-null object\n",
      "Unnamed: 14                                                                                                                                      837 non-null object\n",
      "Please state whether you view the following characters favorably, unfavorably, or are unfamiliar with him/her.                                   830 non-null object\n",
      "Unnamed: 16                                                                                                                                      832 non-null object\n",
      "Unnamed: 17                                                                                                                                      832 non-null object\n",
      "Unnamed: 18                                                                                                                                      824 non-null object\n",
      "Unnamed: 19                                                                                                                                      826 non-null object\n",
      "Unnamed: 20                                                                                                                                      815 non-null object\n",
      "Unnamed: 21                                                                                                                                      827 non-null object\n",
      "Unnamed: 22                                                                                                                                      821 non-null object\n",
      "Unnamed: 23                                                                                                                                      813 non-null object\n",
      "Unnamed: 24                                                                                                                                      828 non-null object\n",
      "Unnamed: 25                                                                                                                                      831 non-null object\n",
      "Unnamed: 26                                                                                                                                      822 non-null object\n",
      "Unnamed: 27                                                                                                                                      815 non-null object\n",
      "Unnamed: 28                                                                                                                                      827 non-null object\n",
      "Which character shot first?                                                                                                                      829 non-null object\n",
      "Are you familiar with the Expanded Universe?                                                                                                     829 non-null object\n",
      "Do you consider yourself to be a fan of the Expanded Universe?ÂÃ¦                                                                               214 non-null object\n",
      "Do you consider yourself to be a fan of the Star Trek franchise?                                                                                 1069 non-null object\n",
      "Gender                                                                                                                                           1047 non-null object\n",
      "Age                                                                                                                                              1047 non-null object\n",
      "Household Income                                                                                                                                 859 non-null object\n",
      "Education                                                                                                                                        1037 non-null object\n",
      "Location (Census Region)                                                                                                                         1044 non-null object\n",
      "dtypes: bool(1), object(37)\n",
      "memory usage: 344.4+ KB\n",
      "None\n"
     ]
    }
   ],
   "source": [
    "print(star_wars.info())"
   ]
  },
  {
   "cell_type": "code",
   "execution_count": 54,
   "metadata": {
    "collapsed": false
   },
   "outputs": [
    {
     "name": "stdout",
     "output_type": "stream",
     "text": [
      "0         NaN\n",
      "1        True\n",
      "2       False\n",
      "3        True\n",
      "4        True\n",
      "5        True\n",
      "6        True\n",
      "7        True\n",
      "8        True\n",
      "9        True\n",
      "10       True\n",
      "11       True\n",
      "12      False\n",
      "13       True\n",
      "14       True\n",
      "15       True\n",
      "16       True\n",
      "17       True\n",
      "18       True\n",
      "19       True\n",
      "20       True\n",
      "21       True\n",
      "22       True\n",
      "23       True\n",
      "24       True\n",
      "25       True\n",
      "26      False\n",
      "27       True\n",
      "28       True\n",
      "29       True\n",
      "        ...  \n",
      "1157     True\n",
      "1158    False\n",
      "1159     True\n",
      "1160    False\n",
      "1161     True\n",
      "1162     True\n",
      "1163     True\n",
      "1164     True\n",
      "1165     True\n",
      "1166     True\n",
      "1167     True\n",
      "1168     True\n",
      "1169    False\n",
      "1170     True\n",
      "1171    False\n",
      "1172     True\n",
      "1173     True\n",
      "1174     True\n",
      "1175     True\n",
      "1176     True\n",
      "1177     True\n",
      "1178     True\n",
      "1179    False\n",
      "1180     True\n",
      "1181     True\n",
      "1182     True\n",
      "1183     True\n",
      "1184    False\n",
      "1185     True\n",
      "1186     True\n",
      "Name: Have you seen any of the 6 films in the Star Wars franchise?, dtype: object\n",
      "0         NaN\n",
      "1        True\n",
      "2         NaN\n",
      "3       False\n",
      "4        True\n",
      "5        True\n",
      "6        True\n",
      "7        True\n",
      "8        True\n",
      "9        True\n",
      "10      False\n",
      "11        NaN\n",
      "12        NaN\n",
      "13      False\n",
      "14       True\n",
      "15       True\n",
      "16       True\n",
      "17       True\n",
      "18       True\n",
      "19       True\n",
      "20       True\n",
      "21       True\n",
      "22      False\n",
      "23       True\n",
      "24       True\n",
      "25       True\n",
      "26        NaN\n",
      "27       True\n",
      "28       True\n",
      "29       True\n",
      "        ...  \n",
      "1157    False\n",
      "1158      NaN\n",
      "1159    False\n",
      "1160      NaN\n",
      "1161    False\n",
      "1162    False\n",
      "1163     True\n",
      "1164    False\n",
      "1165    False\n",
      "1166     True\n",
      "1167     True\n",
      "1168    False\n",
      "1169      NaN\n",
      "1170     True\n",
      "1171      NaN\n",
      "1172     True\n",
      "1173     True\n",
      "1174     True\n",
      "1175    False\n",
      "1176     True\n",
      "1177    False\n",
      "1178    False\n",
      "1179      NaN\n",
      "1180     True\n",
      "1181     True\n",
      "1182     True\n",
      "1183     True\n",
      "1184      NaN\n",
      "1185     True\n",
      "1186    False\n",
      "Name: Do you consider yourself to be a fan of the Star Wars film franchise?, dtype: object\n"
     ]
    }
   ],
   "source": [
    "# Convert the Yes/No questions into Booleans using mapping\n",
    "yes_no = {\n",
    "    \"Yes\": True,\n",
    "    \"No\": False\n",
    "}\n",
    "star_wars[\"Have you seen any of the 6 films in the Star Wars franchise?\"] = star_wars[\"Have you seen any of the 6 films in the Star Wars franchise?\"].map(yes_no)\n",
    "print(star_wars[\"Have you seen any of the 6 films in the Star Wars franchise?\"])\n",
    "\n",
    "star_wars[\"Do you consider yourself to be a fan of the Star Wars film franchise?\"] = star_wars[\"Do you consider yourself to be a fan of the Star Wars film franchise?\"].map(yes_no)\n",
    "print(star_wars[\"Do you consider yourself to be a fan of the Star Wars film franchise?\"])\n"
   ]
  },
  {
   "cell_type": "code",
   "execution_count": 55,
   "metadata": {
    "collapsed": false
   },
   "outputs": [],
   "source": [
    "# Map the seen/not seen checkboxes to booleans\n",
    "column_list = star_wars.columns[3:9]\n",
    "for col in column_list:\n",
    "    seen_map = {\n",
    "        \"Star Wars: Episode I  The Phantom Menace\": True,\n",
    "        \"Star Wars: Episode II  Attack of the Clones\": True,\n",
    "        \"Star Wars: Episode III  Revenge of the Sith\": True,\n",
    "        \"Star Wars: Episode IV  A New Hope\": True,\n",
    "        \"Star Wars: Episode V The Empire Strikes Back\": True,\n",
    "        \"Star Wars: Episode VI Return of the Jedi\": True,\n",
    "        \"NaN\": False\n",
    "    }\n",
    "    star_wars[col] = star_wars[col].map(seen_map)"
   ]
  },
  {
   "cell_type": "code",
   "execution_count": 56,
   "metadata": {
    "collapsed": false
   },
   "outputs": [
    {
     "name": "stdout",
     "output_type": "stream",
     "text": [
      "  RespondentID Have you seen any of the 6 films in the Star Wars franchise?  \\\n",
      "0         True                                                NaN             \n",
      "1         True                                               True             \n",
      "2         True                                              False             \n",
      "3         True                                               True             \n",
      "4         True                                               True             \n",
      "\n",
      "  Do you consider yourself to be a fan of the Star Wars film franchise?  \\\n",
      "0                                                NaN                      \n",
      "1                                               True                      \n",
      "2                                                NaN                      \n",
      "3                                              False                      \n",
      "4                                               True                      \n",
      "\n",
      "  Which of the following Star Wars films have you seen? Please select all that apply.  \\\n",
      "0                                               True                                    \n",
      "1                                               True                                    \n",
      "2                                                NaN                                    \n",
      "3                                               True                                    \n",
      "4                                               True                                    \n",
      "\n",
      "  Unnamed: 4 Unnamed: 5 Unnamed: 6 Unnamed: 7 Unnamed: 8  \\\n",
      "0       True       True       True       True       True   \n",
      "1       True       True       True       True       True   \n",
      "2        NaN        NaN        NaN        NaN        NaN   \n",
      "3       True       True        NaN        NaN        NaN   \n",
      "4       True       True       True       True       True   \n",
      "\n",
      "  Please rank the Star Wars films in order of preference with 1 being your favorite film in the franchise and 6 being your least favorite film.  \\\n",
      "0           Star Wars: Episode I  The Phantom Menace                                                                                              \n",
      "1                                                  3                                                                                              \n",
      "2                                                NaN                                                                                              \n",
      "3                                                  1                                                                                              \n",
      "4                                                  5                                                                                              \n",
      "\n",
      "            ...                  Unnamed: 28  \\\n",
      "0           ...                         Yoda   \n",
      "1           ...               Very favorably   \n",
      "2           ...                          NaN   \n",
      "3           ...             Unfamiliar (N/A)   \n",
      "4           ...               Very favorably   \n",
      "\n",
      "        Which character shot first?  \\\n",
      "0                          Response   \n",
      "1  I don't understand this question   \n",
      "2                               NaN   \n",
      "3  I don't understand this question   \n",
      "4  I don't understand this question   \n",
      "\n",
      "  Are you familiar with the Expanded Universe?  \\\n",
      "0                                     Response   \n",
      "1                                          Yes   \n",
      "2                                          NaN   \n",
      "3                                           No   \n",
      "4                                           No   \n",
      "\n",
      "  Do you consider yourself to be a fan of the Expanded Universe?ÂÃ¦  \\\n",
      "0                                           Response                   \n",
      "1                                                 No                   \n",
      "2                                                NaN                   \n",
      "3                                                NaN                   \n",
      "4                                                NaN                   \n",
      "\n",
      "  Do you consider yourself to be a fan of the Star Trek franchise?    Gender  \\\n",
      "0                                           Response                Response   \n",
      "1                                                 No                    Male   \n",
      "2                                                Yes                    Male   \n",
      "3                                                 No                    Male   \n",
      "4                                                Yes                    Male   \n",
      "\n",
      "        Age     Household Income                         Education  \\\n",
      "0  Response             Response                          Response   \n",
      "1     18-29                  NaN                High school degree   \n",
      "2     18-29         $0 - $24,999                   Bachelor degree   \n",
      "3     18-29         $0 - $24,999                High school degree   \n",
      "4     18-29  $100,000 - $149,999  Some college or Associate degree   \n",
      "\n",
      "  Location (Census Region)  \n",
      "0                 Response  \n",
      "1           South Atlantic  \n",
      "2       West South Central  \n",
      "3       West North Central  \n",
      "4       West North Central  \n",
      "\n",
      "[5 rows x 38 columns]\n"
     ]
    }
   ],
   "source": [
    "print(star_wars.head())"
   ]
  },
  {
   "cell_type": "code",
   "execution_count": 57,
   "metadata": {
    "collapsed": true
   },
   "outputs": [],
   "source": [
    "# rename the columns to something more intuitive\n",
    "\n",
    "star_wars = star_wars.rename(columns = {\n",
    "    \"Which of the following Star Wars films have you seen? Please select all that apply.\" : \"seen_1\",\n",
    "    \"Unnamed: 4\" : \"seen_2\",\n",
    "    \"Unnamed: 5\" : \"seen_3\",\n",
    "    \"Unnamed: 6\" : \"seen_4\",\n",
    "    \"Unnamed: 7\" : \"seen_5\",\n",
    "    \"Unnamed: 8\" : \"seen_6\"\n",
    "})"
   ]
  },
  {
   "cell_type": "code",
   "execution_count": 58,
   "metadata": {
    "collapsed": false
   },
   "outputs": [
    {
     "name": "stdout",
     "output_type": "stream",
     "text": [
      "  RespondentID Have you seen any of the 6 films in the Star Wars franchise?  \\\n",
      "0         True                                                NaN             \n",
      "1         True                                               True             \n",
      "2         True                                              False             \n",
      "3         True                                               True             \n",
      "4         True                                               True             \n",
      "\n",
      "  Do you consider yourself to be a fan of the Star Wars film franchise?  \\\n",
      "0                                                NaN                      \n",
      "1                                               True                      \n",
      "2                                                NaN                      \n",
      "3                                              False                      \n",
      "4                                               True                      \n",
      "\n",
      "  seen_1 seen_2 seen_3 seen_4 seen_5 seen_6  \\\n",
      "0   True   True   True   True   True   True   \n",
      "1   True   True   True   True   True   True   \n",
      "2    NaN    NaN    NaN    NaN    NaN    NaN   \n",
      "3   True   True   True    NaN    NaN    NaN   \n",
      "4   True   True   True   True   True   True   \n",
      "\n",
      "  Please rank the Star Wars films in order of preference with 1 being your favorite film in the franchise and 6 being your least favorite film.  \\\n",
      "0           Star Wars: Episode I  The Phantom Menace                                                                                              \n",
      "1                                                  3                                                                                              \n",
      "2                                                NaN                                                                                              \n",
      "3                                                  1                                                                                              \n",
      "4                                                  5                                                                                              \n",
      "\n",
      "            ...                  Unnamed: 28  \\\n",
      "0           ...                         Yoda   \n",
      "1           ...               Very favorably   \n",
      "2           ...                          NaN   \n",
      "3           ...             Unfamiliar (N/A)   \n",
      "4           ...               Very favorably   \n",
      "\n",
      "        Which character shot first?  \\\n",
      "0                          Response   \n",
      "1  I don't understand this question   \n",
      "2                               NaN   \n",
      "3  I don't understand this question   \n",
      "4  I don't understand this question   \n",
      "\n",
      "  Are you familiar with the Expanded Universe?  \\\n",
      "0                                     Response   \n",
      "1                                          Yes   \n",
      "2                                          NaN   \n",
      "3                                           No   \n",
      "4                                           No   \n",
      "\n",
      "  Do you consider yourself to be a fan of the Expanded Universe?ÂÃ¦  \\\n",
      "0                                           Response                   \n",
      "1                                                 No                   \n",
      "2                                                NaN                   \n",
      "3                                                NaN                   \n",
      "4                                                NaN                   \n",
      "\n",
      "  Do you consider yourself to be a fan of the Star Trek franchise?    Gender  \\\n",
      "0                                           Response                Response   \n",
      "1                                                 No                    Male   \n",
      "2                                                Yes                    Male   \n",
      "3                                                 No                    Male   \n",
      "4                                                Yes                    Male   \n",
      "\n",
      "        Age     Household Income                         Education  \\\n",
      "0  Response             Response                          Response   \n",
      "1     18-29                  NaN                High school degree   \n",
      "2     18-29         $0 - $24,999                   Bachelor degree   \n",
      "3     18-29         $0 - $24,999                High school degree   \n",
      "4     18-29  $100,000 - $149,999  Some college or Associate degree   \n",
      "\n",
      "  Location (Census Region)  \n",
      "0                 Response  \n",
      "1           South Atlantic  \n",
      "2       West South Central  \n",
      "3       West North Central  \n",
      "4       West North Central  \n",
      "\n",
      "[5 rows x 38 columns]\n"
     ]
    }
   ],
   "source": [
    "print(star_wars.head())"
   ]
  },
  {
   "cell_type": "code",
   "execution_count": 59,
   "metadata": {
    "collapsed": false
   },
   "outputs": [],
   "source": [
    "# convert the ranking survey questions into floats\n",
    "\n",
    "# the first row of the ranking the films in preference is the film name\n",
    "star_wars = star_wars[1:]\n",
    "\n",
    "star_wars[star_wars.columns[9:15]] = star_wars[star_wars.columns[9:15]].astype(float)\n",
    "\n",
    "star_wars = star_wars.rename(columns = {\n",
    "    \"Please rank the Star Wars films in order of preference with 1 being your favorite film in the franchise and 6 being your least favorite film.\" : \"ranking_1\",\n",
    "    \"Unnamed: 10\" : \"ranking_2\",\n",
    "    \"Unnamed: 11\" : \"ranking_3\",\n",
    "    \"Unnamed: 12\" : \"ranking_4\",\n",
    "    \"Unnamed: 13\" : \"ranking_5\",\n",
    "    \"Unnamed: 14\" : \"ranking_6\"\n",
    "})"
   ]
  },
  {
   "cell_type": "code",
   "execution_count": 60,
   "metadata": {
    "collapsed": false
   },
   "outputs": [
    {
     "name": "stdout",
     "output_type": "stream",
     "text": [
      "     RespondentID  \\\n",
      "1182         True   \n",
      "1183         True   \n",
      "1184         True   \n",
      "1185         True   \n",
      "1186         True   \n",
      "\n",
      "     Have you seen any of the 6 films in the Star Wars franchise?  \\\n",
      "1182                                               True             \n",
      "1183                                               True             \n",
      "1184                                              False             \n",
      "1185                                               True             \n",
      "1186                                               True             \n",
      "\n",
      "     Do you consider yourself to be a fan of the Star Wars film franchise?  \\\n",
      "1182                                               True                      \n",
      "1183                                               True                      \n",
      "1184                                                NaN                      \n",
      "1185                                               True                      \n",
      "1186                                              False                      \n",
      "\n",
      "     seen_1 seen_2 seen_3 seen_4 seen_5 seen_6  ranking_1  \\\n",
      "1182   True   True   True   True   True   True        5.0   \n",
      "1183   True   True   True   True   True   True        4.0   \n",
      "1184    NaN    NaN    NaN    NaN    NaN    NaN        NaN   \n",
      "1185   True   True   True   True   True   True        4.0   \n",
      "1186   True   True    NaN    NaN   True   True        6.0   \n",
      "\n",
      "               ...                  Unnamed: 28  \\\n",
      "1182           ...               Very favorably   \n",
      "1183           ...               Very favorably   \n",
      "1184           ...                          NaN   \n",
      "1185           ...               Very favorably   \n",
      "1186           ...             Very unfavorably   \n",
      "\n",
      "           Which character shot first?  \\\n",
      "1182                               Han   \n",
      "1183  I don't understand this question   \n",
      "1184                               NaN   \n",
      "1185                               Han   \n",
      "1186  I don't understand this question   \n",
      "\n",
      "      Are you familiar with the Expanded Universe?  \\\n",
      "1182                                            No   \n",
      "1183                                            No   \n",
      "1184                                           NaN   \n",
      "1185                                            No   \n",
      "1186                                            No   \n",
      "\n",
      "      Do you consider yourself to be a fan of the Expanded Universe?ÂÃ¦  \\\n",
      "1182                                                NaN                    \n",
      "1183                                                NaN                    \n",
      "1184                                                NaN                    \n",
      "1185                                                NaN                    \n",
      "1186                                                NaN                    \n",
      "\n",
      "      Do you consider yourself to be a fan of the Star Trek franchise?  \\\n",
      "1182                                                Yes                  \n",
      "1183                                                Yes                  \n",
      "1184                                                 No                  \n",
      "1185                                                Yes                  \n",
      "1186                                                 No                  \n",
      "\n",
      "      Gender    Age     Household Income                         Education  \\\n",
      "1182  Female  18-29         $0 - $24,999  Some college or Associate degree   \n",
      "1183  Female  30-44    $50,000 - $99,999                   Bachelor degree   \n",
      "1184  Female  30-44    $50,000 - $99,999                   Bachelor degree   \n",
      "1185  Female  45-60  $100,000 - $149,999  Some college or Associate degree   \n",
      "1186  Female   > 60    $50,000 - $99,999                   Graduate degree   \n",
      "\n",
      "     Location (Census Region)  \n",
      "1182       East North Central  \n",
      "1183                 Mountain  \n",
      "1184          Middle Atlantic  \n",
      "1185       East North Central  \n",
      "1186                  Pacific  \n",
      "\n",
      "[5 rows x 38 columns]\n"
     ]
    }
   ],
   "source": [
    "print(star_wars.tail())"
   ]
  },
  {
   "cell_type": "code",
   "execution_count": 61,
   "metadata": {
    "collapsed": false
   },
   "outputs": [
    {
     "data": {
      "text/plain": [
       "<Container object of 6 artists>"
      ]
     },
     "execution_count": 61,
     "metadata": {},
     "output_type": "execute_result"
    },
    {
     "data": {
      "image/png": "[encoded data removed]",
      "text/plain": [
       "<matplotlib.figure.Figure at 0x7f3ec3d32080>"
      ]
     },
     "metadata": {},
     "output_type": "display_data"
    }
   ],
   "source": [
    "# finding mean movie rankings\n",
    "%matplotlib inline\n",
    "import matplotlib.pyplot as plt\n",
    "\n",
    "fig, ax = plt.subplots()\n",
    "ax.bar(range(6), star_wars[star_wars.columns[9:15]].mean())"
   ]
  },
  {
   "cell_type": "markdown",
   "metadata": {},
   "source": [
    "## As the 5th movie (Empire Strikes Back) has the lowest average rating, it appears respondents liked that movie best out of the first 6.  The 3rd movie appears to be least liked.  In general, the original trilogy appears to be more liked than the prequel trilogy"
   ]
  },
  {
   "cell_type": "code",
   "execution_count": 62,
   "metadata": {
    "collapsed": false
   },
   "outputs": [
    {
     "data": {
      "text/plain": [
       "<Container object of 6 artists>"
      ]
     },
     "execution_count": 62,
     "metadata": {},
     "output_type": "execute_result"
    },
    {
     "data": {
      "image/png": "[encoded data removed]",
      "text/plain": [
       "<matplotlib.figure.Figure at 0x7f3ec3f1f3c8>"
      ]
     },
     "metadata": {},
     "output_type": "display_data"
    }
   ],
   "source": [
    "fig, ax = plt.subplots()\n",
    "ax.bar(range(6), star_wars[star_wars.columns[3:9]].sum())"
   ]
  },
  {
   "cell_type": "markdown",
   "metadata": {
    "collapsed": true
   },
   "source": [
    "## More people have seen the 5th and 6th movies than the other 4.  The 3rd movie appears to be least watched, and the original trilogy appears to be more watched than the prequel trilogy.  This correlates well with the average ratings (as more people watched the movies that were rated better)"
   ]
  },
  {
   "cell_type": "code",
   "execution_count": 71,
   "metadata": {
    "collapsed": false
   },
   "outputs": [
    {
     "name": "stdout",
     "output_type": "stream",
     "text": [
      "552\n",
      "284\n"
     ]
    },
    {
     "data": {
      "text/plain": [
       "<Container object of 6 artists>"
      ]
     },
     "execution_count": 71,
     "metadata": {},
     "output_type": "execute_result"
    },
    {
     "data": {
      "image/png": "[encoded data removed]",
      "text/plain": [
       "<matplotlib.figure.Figure at 0x7f3eb21b6c50>"
      ]
     },
     "metadata": {},
     "output_type": "display_data"
    }
   ],
   "source": [
    "# plotting mean scores for star wars fans\n",
    "star_wars_fans = star_wars.loc[star_wars[\"Do you consider yourself to be a fan of the Star Wars film franchise?\"] == True]\n",
    "not_star_wars_fans = star_wars.loc[star_wars[\"Do you consider yourself to be a fan of the Star Wars film franchise?\"] == False]\n",
    "print(star_wars_fans.shape[0])\n",
    "print(not_star_wars_fans.shape[0])\n",
    "\n",
    "fig, ax = plt.subplots()\n",
    "ax.bar(range(6), star_wars_fans[star_wars_fans.columns[9:15]].mean())"
   ]
  },
  {
   "cell_type": "code",
   "execution_count": 68,
   "metadata": {
    "collapsed": false
   },
   "outputs": [
    {
     "data": {
      "text/plain": [
       "<Container object of 6 artists>"
      ]
     },
     "execution_count": 68,
     "metadata": {},
     "output_type": "execute_result"
    },
    {
     "data": {
      "image/png": "[encoded data removed]",
      "text/plain": [
       "<matplotlib.figure.Figure at 0x7f3ec3cfe320>"
      ]
     },
     "metadata": {},
     "output_type": "display_data"
    }
   ],
   "source": [
    "# plotting mean scores for non star wars fans\n",
    "fig, ax = plt.subplots()\n",
    "ax.bar(range(6), not_star_wars_fans[not_star_wars_fans.columns[9:15]].mean())"
   ]
  },
  {
   "cell_type": "code",
   "execution_count": 69,
   "metadata": {
    "collapsed": false
   },
   "outputs": [
    {
     "data": {
      "text/plain": [
       "<Container object of 6 artists>"
      ]
     },
     "execution_count": 69,
     "metadata": {},
     "output_type": "execute_result"
    },
    {
     "data": {
      "image/png": "[encoded data removed]",
      "text/plain": [
       "<matplotlib.figure.Figure at 0x7f3e9359af98>"
      ]
     },
     "metadata": {},
     "output_type": "display_data"
    }
   ],
   "source": [
    "# plotting number of films seen by fans\n",
    "fig, ax = plt.subplots()\n",
    "ax.bar(range(6), star_wars_fans[star_wars_fans.columns[3:9]].sum())"
   ]
  },
  {
   "cell_type": "code",
   "execution_count": 70,
   "metadata": {
    "collapsed": false
   },
   "outputs": [
    {
     "data": {
      "text/plain": [
       "<Container object of 6 artists>"
      ]
     },
     "execution_count": 70,
     "metadata": {},
     "output_type": "execute_result"
    },
    {
     "data": {
      "image/png": "[encoded data removed]",
      "text/plain": [
       "<matplotlib.figure.Figure at 0x7f3e933b0898>"
      ]
     },
     "metadata": {},
     "output_type": "display_data"
    }
   ],
   "source": [
    "# plotting number of films seen by non-fans\n",
    "fig, ax = plt.subplots()\n",
    "ax.bar(range(6), not_star_wars_fans[not_star_wars_fans.columns[3:9]].sum())"
   ]
  },
  {
   "cell_type": "markdown",
   "metadata": {},
   "source": [
    "## Star wars fans on the whole preferred the original trilogy significantly over the prequel trilogy, while non-fans did not have as strong of a preference.  Of star wars fans approximately 80% (~450/552) had seen all 6 movies, while of non star wars fans less than 30% (~100/284) had seen all 6 movies."
   ]
  },
  {
   "cell_type": "code",
   "execution_count": 74,
   "metadata": {
    "collapsed": false
   },
   "outputs": [
    {
     "name": "stdout",
     "output_type": "stream",
     "text": [
      "427\n",
      "641\n"
     ]
    },
    {
     "data": {
      "text/plain": [
       "<Container object of 6 artists>"
      ]
     },
     "execution_count": 74,
     "metadata": {},
     "output_type": "execute_result"
    },
    {
     "data": {
      "image/png": "[encoded data removed]",
      "text/plain": [
       "<matplotlib.figure.Figure at 0x7f3e935bcac8>"
      ]
     },
     "metadata": {},
     "output_type": "display_data"
    }
   ],
   "source": [
    "# plotting mean scores of star trek fans\n",
    "\n",
    "star_trek_fans = star_wars.loc[star_wars[\"Do you consider yourself to be a fan of the Star Trek franchise?\"] == \"Yes\"]\n",
    "not_star_trek_fans = star_wars.loc[star_wars[\"Do you consider yourself to be a fan of the Star Trek franchise?\"] == \"No\"]\n",
    "\n",
    "print(star_trek_fans.shape[0])\n",
    "print(not_star_trek_fans.shape[0])\n",
    "\n",
    "fig, ax = plt.subplots()\n",
    "ax.bar(range(6), star_trek_fans[star_trek_fans.columns[9:15]].mean())"
   ]
  },
  {
   "cell_type": "code",
   "execution_count": 75,
   "metadata": {
    "collapsed": false
   },
   "outputs": [
    {
     "data": {
      "text/plain": [
       "<Container object of 6 artists>"
      ]
     },
     "execution_count": 75,
     "metadata": {},
     "output_type": "execute_result"
    },
    {
     "data": {
      "image/png": "[encoded data removed]",
      "text/plain": [
       "<matplotlib.figure.Figure at 0x7f3e8ba6a470>"
      ]
     },
     "metadata": {},
     "output_type": "display_data"
    }
   ],
   "source": [
    "# plotting mean scores of non star trek fans\n",
    "fig, ax = plt.subplots()\n",
    "ax.bar(range(6), not_star_trek_fans[not_star_trek_fans.columns[9:15]].mean())"
   ]
  },
  {
   "cell_type": "code",
   "execution_count": 76,
   "metadata": {
    "collapsed": false
   },
   "outputs": [
    {
     "data": {
      "text/plain": [
       "<Container object of 6 artists>"
      ]
     },
     "execution_count": 76,
     "metadata": {},
     "output_type": "execute_result"
    },
    {
     "data": {
      "image/png": "[encoded data removed]",
      "text/plain": [
       "<matplotlib.figure.Figure at 0x7f3eb9bdb898>"
      ]
     },
     "metadata": {},
     "output_type": "display_data"
    }
   ],
   "source": [
    "fig, ax = plt.subplots()\n",
    "ax.bar(range(6), star_trek_fans[star_trek_fans.columns[3:9]].sum())"
   ]
  },
  {
   "cell_type": "code",
   "execution_count": 77,
   "metadata": {
    "collapsed": false
   },
   "outputs": [
    {
     "data": {
      "text/plain": [
       "<Container object of 6 artists>"
      ]
     },
     "execution_count": 77,
     "metadata": {},
     "output_type": "execute_result"
    },
    {
     "data": {
      "image/png": "[encoded data removed]",
      "text/plain": [
       "<matplotlib.figure.Figure at 0x7f3eb22fec88>"
      ]
     },
     "metadata": {},
     "output_type": "display_data"
    }
   ],
   "source": [
    "fig, ax = plt.subplots()\n",
    "ax.bar(range(6), not_star_trek_fans[not_star_trek_fans.columns[3:9]].sum())"
   ]
  },
  {
   "cell_type": "code",
   "execution_count": 91,
   "metadata": {
    "collapsed": false
   },
   "outputs": [
    {
     "name": "stdout",
     "output_type": "stream",
     "text": [
      "370\n",
      "238\n",
      "175\n",
      "45\n",
      "1186\n",
      "No     641\n",
      "Yes    427\n",
      "Name: Do you consider yourself to be a fan of the Star Trek franchise?, dtype: int64\n"
     ]
    }
   ],
   "source": [
    "both_fans = star_wars_fans.loc[star_wars_fans[\"Do you consider yourself to be a fan of the Star Trek franchise?\"] == \"Yes\"]\n",
    "print(both_fans.shape[0])\n",
    "neither_fans = not_star_wars_fans.loc[not_star_wars_fans[\"Do you consider yourself to be a fan of the Star Trek franchise?\"] == \"No\"]\n",
    "print(neither_fans.shape[0])\n",
    "star_wars_only_fan = star_wars_fans.loc[star_wars_fans[\"Do you consider yourself to be a fan of the Star Trek franchise?\"] == \"No\"]\n",
    "star_trek_only_fan = star_trek_fans.loc[star_trek_fans[\"Do you consider yourself to be a fan of the Star Wars film franchise?\"] == False]\n",
    "print(star_wars_only_fan.shape[0])\n",
    "print(star_trek_only_fan.shape[0])\n",
    "print(star_wars.shape[0])\n",
    "print(star_wars[\"Do you consider yourself to be a fan of the Star Trek franchise?\"].value_counts())"
   ]
  },
  {
   "cell_type": "markdown",
   "metadata": {},
   "source": [
    "## It appears Star Trek fans are of a similar opinion to Star Wars fans regarding the original vs. prequel trilogies.  Additionally, of the 1186 respondents in the dataset, 370 (31%) are fans of both franchises, 238 (20%) are fans of neither franchise, 175 (15%) are fans of Star Wars only, and 45 (4%) are fans of Star Trek only.  As many people did not respond to the fan questions we do not have a complete dataset, however.  "
   ]
  },
  {
   "cell_type": "code",
   "execution_count": 94,
   "metadata": {
    "collapsed": false
   },
   "outputs": [
    {
     "name": "stdout",
     "output_type": "stream",
     "text": [
      "<class 'pandas.core.frame.DataFrame'>\n",
      "RangeIndex: 1186 entries, 1 to 1186\n",
      "Data columns (total 38 columns):\n",
      "RespondentID                                                                                                      1186 non-null bool\n",
      "Have you seen any of the 6 films in the Star Wars franchise?                                                      1186 non-null object\n",
      "Do you consider yourself to be a fan of the Star Wars film franchise?                                             836 non-null object\n",
      "seen_1                                                                                                            673 non-null object\n",
      "seen_2                                                                                                            571 non-null object\n",
      "seen_3                                                                                                            550 non-null object\n",
      "seen_4                                                                                                            607 non-null object\n",
      "seen_5                                                                                                            758 non-null object\n",
      "seen_6                                                                                                            738 non-null object\n",
      "ranking_1                                                                                                         835 non-null float64\n",
      "ranking_2                                                                                                         836 non-null float64\n",
      "ranking_3                                                                                                         835 non-null float64\n",
      "ranking_4                                                                                                         836 non-null float64\n",
      "ranking_5                                                                                                         836 non-null float64\n",
      "ranking_6                                                                                                         836 non-null float64\n",
      "Please state whether you view the following characters favorably, unfavorably, or are unfamiliar with him/her.    829 non-null object\n",
      "Unnamed: 16                                                                                                       831 non-null object\n",
      "Unnamed: 17                                                                                                       831 non-null object\n",
      "Unnamed: 18                                                                                                       823 non-null object\n",
      "Unnamed: 19                                                                                                       825 non-null object\n",
      "Unnamed: 20                                                                                                       814 non-null object\n",
      "Unnamed: 21                                                                                                       826 non-null object\n",
      "Unnamed: 22                                                                                                       820 non-null object\n",
      "Unnamed: 23                                                                                                       812 non-null object\n",
      "Unnamed: 24                                                                                                       827 non-null object\n",
      "Unnamed: 25                                                                                                       830 non-null object\n",
      "Unnamed: 26                                                                                                       821 non-null object\n",
      "Unnamed: 27                                                                                                       814 non-null object\n",
      "Unnamed: 28                                                                                                       826 non-null object\n",
      "Which character shot first?                                                                                       828 non-null object\n",
      "Are you familiar with the Expanded Universe?                                                                      828 non-null object\n",
      "Do you consider yourself to be a fan of the Expanded Universe?ÂÃ¦                                                213 non-null object\n",
      "Do you consider yourself to be a fan of the Star Trek franchise?                                                  1068 non-null object\n",
      "Gender                                                                                                            1046 non-null object\n",
      "Age                                                                                                               1046 non-null object\n",
      "Household Income                                                                                                  858 non-null object\n",
      "Education                                                                                                         1036 non-null object\n",
      "Location (Census Region)                                                                                          1043 non-null object\n",
      "dtypes: bool(1), float64(6), object(31)\n",
      "memory usage: 344.1+ KB\n",
      "None\n"
     ]
    }
   ],
   "source": [
    "print(star_wars.info())"
   ]
  },
  {
   "cell_type": "code",
   "execution_count": null,
   "metadata": {
    "collapsed": true
   },
   "outputs": [],
   "source": []
  }
 ],
 "metadata": {
  "kernelspec": {
   "display_name": "Python 3",
   "language": "python",
   "name": "python3"
  },
  "language_info": {
   "codemirror_mode": {
    "name": "ipython",
    "version": 3
   },
   "file_extension": ".py",
   "mimetype": "text/x-python",
   "name": "python",
   "nbconvert_exporter": "python",
   "pygments_lexer": "ipython3",
   "version": "3.4.3"
  }
 },
 "nbformat": 4,
 "nbformat_minor": 0
}
